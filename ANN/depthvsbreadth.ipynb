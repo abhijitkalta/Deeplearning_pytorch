{
 "cells": [
  {
   "cell_type": "code",
   "execution_count": 1,
   "id": "016d23c7-b3fc-44c8-9de4-e148cd5a2c35",
   "metadata": {},
   "outputs": [
    {
     "name": "stderr",
     "output_type": "stream",
     "text": [
      "/var/folders/nn/4_714bpd2qz7gm9d27_r3qw40000gn/T/ipykernel_21160/424189378.py:9: DeprecationWarning: `set_matplotlib_formats` is deprecated since IPython 7.23, directly use `matplotlib_inline.backend_inline.set_matplotlib_formats()`\n",
      "  display.set_matplotlib_formats('svg')\n"
     ]
    }
   ],
   "source": [
    "# import libraries\n",
    "import torch\n",
    "import torch.nn as nn\n",
    "import torch.nn.functional as F\n",
    "\n",
    "import numpy as np\n",
    "import matplotlib.pyplot as plt\n",
    "from IPython import display\n",
    "display.set_matplotlib_formats('svg')"
   ]
  },
  {
   "cell_type": "code",
   "execution_count": 2,
   "id": "6542572a-c471-403b-b21d-5da748d7111a",
   "metadata": {},
   "outputs": [
    {
     "name": "stdout",
     "output_type": "stream",
     "text": [
      "Sequential(\n",
      "  (0): Linear(in_features=2, out_features=4, bias=True)\n",
      "  (1): Linear(in_features=4, out_features=3, bias=True)\n",
      ")\n",
      "\n",
      "Sequential(\n",
      "  (0): Linear(in_features=2, out_features=2, bias=True)\n",
      "  (1): Linear(in_features=2, out_features=2, bias=True)\n",
      "  (2): Linear(in_features=2, out_features=3, bias=True)\n",
      ")\n"
     ]
    }
   ],
   "source": [
    "widenet = nn.Sequential(\n",
    "    nn.Linear(2, 4),\n",
    "    nn.Linear(4, 3),\n",
    ")\n",
    "\n",
    "deepnet = nn.Sequential(\n",
    "    nn.Linear(2, 2),\n",
    "    nn.Linear(2, 2),\n",
    "    nn.Linear(2, 3),\n",
    ")\n",
    "\n",
    "print(widenet)\n",
    "print('')\n",
    "print(deepnet)"
   ]
  },
  {
   "cell_type": "code",
   "execution_count": 3,
   "id": "9617bef1-9314-449f-b76b-82bfa416ca09",
   "metadata": {},
   "outputs": [
    {
     "name": "stdout",
     "output_type": "stream",
     "text": [
      "('0.weight', Parameter containing:\n",
      "tensor([[ 0.0612,  0.6504],\n",
      "        [ 0.6071, -0.3608],\n",
      "        [-0.0217, -0.4795],\n",
      "        [ 0.3482,  0.4702]], requires_grad=True))\n",
      "\n",
      "('0.bias', Parameter containing:\n",
      "tensor([ 0.0509,  0.1677, -0.3117, -0.3221], requires_grad=True))\n",
      "\n",
      "('1.weight', Parameter containing:\n",
      "tensor([[ 0.3295,  0.4920, -0.4567, -0.0373],\n",
      "        [-0.3140, -0.3955, -0.2755, -0.3092],\n",
      "        [-0.1786,  0.2255,  0.1338, -0.2377]], requires_grad=True))\n",
      "\n",
      "('1.bias', Parameter containing:\n",
      "tensor([ 0.0132, -0.0286,  0.2586], requires_grad=True))\n",
      "\n"
     ]
    }
   ],
   "source": [
    "for p in widenet.named_parameters():\n",
    "    print(p)\n",
    "    print('')"
   ]
  },
  {
   "cell_type": "code",
   "execution_count": 11,
   "id": "7e8a4bcc-a836-452c-8555-449ff9de7733",
   "metadata": {},
   "outputs": [
    {
     "name": "stdout",
     "output_type": "stream",
     "text": [
      "('0.weight', Parameter containing:\n",
      "tensor([[-0.3183, -0.5378],\n",
      "        [-0.1843, -0.1841]], requires_grad=True))\n",
      "\n",
      "('0.bias', Parameter containing:\n",
      "tensor([0.0609, 0.3500], requires_grad=True))\n",
      "\n",
      "('1.weight', Parameter containing:\n",
      "tensor([[-0.4367, -0.5353],\n",
      "        [-0.1591,  0.4856]], requires_grad=True))\n",
      "\n",
      "('1.bias', Parameter containing:\n",
      "tensor([0.5257, 0.2406], requires_grad=True))\n",
      "\n",
      "('2.weight', Parameter containing:\n",
      "tensor([[ 0.4732,  0.0300],\n",
      "        [-0.5975, -0.3898],\n",
      "        [-0.4772, -0.4237]], requires_grad=True))\n",
      "\n",
      "('2.bias', Parameter containing:\n",
      "tensor([ 0.5419, -0.0260,  0.3951], requires_grad=True))\n",
      "\n"
     ]
    }
   ],
   "source": [
    "for p in deepnet.named_parameters():\n",
    "    print(p)\n",
    "    print('')"
   ]
  },
  {
   "cell_type": "code",
   "execution_count": 12,
   "id": "d49c42f9-54c5-4dad-91ef-2808ac99e181",
   "metadata": {},
   "outputs": [
    {
     "name": "stdout",
     "output_type": "stream",
     "text": [
      "there are 7 nodes in widenet\n",
      "there are 7 nodes in deepnet\n"
     ]
    }
   ],
   "source": [
    "numNodesInWide = 0\n",
    "for paramName, paramVect in widenet.named_parameters():\n",
    "    if 'bias' in paramName:\n",
    "        numNodesInWide += len(paramVect)\n",
    "\n",
    "numNodesInDeep = 0\n",
    "for paramName, paramVect in deepnet.named_parameters():\n",
    "    if 'bias' in paramName:\n",
    "        numNodesInDeep += len(paramVect)\n",
    "\n",
    "print('there are {} nodes in widenet'.format(numNodesInWide))\n",
    "print('there are {} nodes in deepnet'.format(numNodesInDeep))\n"
   ]
  },
  {
   "cell_type": "code",
   "execution_count": 14,
   "id": "2aa0f09e-17a5-4337-880d-4e8a706f9bcb",
   "metadata": {},
   "outputs": [
    {
     "name": "stdout",
     "output_type": "stream",
     "text": [
      "Parameter containing:\n",
      "tensor([[ 0.0612,  0.6504],\n",
      "        [ 0.6071, -0.3608],\n",
      "        [-0.0217, -0.4795],\n",
      "        [ 0.3482,  0.4702]], requires_grad=True)\n",
      "\n",
      "8\n",
      "Parameter containing:\n",
      "tensor([ 0.0509,  0.1677, -0.3117, -0.3221], requires_grad=True)\n",
      "\n",
      "4\n",
      "Parameter containing:\n",
      "tensor([[ 0.3295,  0.4920, -0.4567, -0.0373],\n",
      "        [-0.3140, -0.3955, -0.2755, -0.3092],\n",
      "        [-0.1786,  0.2255,  0.1338, -0.2377]], requires_grad=True)\n",
      "\n",
      "12\n",
      "Parameter containing:\n",
      "tensor([ 0.0132, -0.0286,  0.2586], requires_grad=True)\n",
      "\n",
      "3\n"
     ]
    }
   ],
   "source": [
    "for p in widenet.parameters():\n",
    "    print(p)\n",
    "    print('')\n",
    "    print(p.numel())"
   ]
  },
  {
   "cell_type": "code",
   "execution_count": 15,
   "id": "a5bd2dd8-364a-46ca-899a-18616f292638",
   "metadata": {},
   "outputs": [
    {
     "ename": "ModuleNotFoundError",
     "evalue": "No module named 'torchsummary'",
     "output_type": "error",
     "traceback": [
      "\u001b[0;31m---------------------------------------------------------------------------\u001b[0m",
      "\u001b[0;31mModuleNotFoundError\u001b[0m                       Traceback (most recent call last)",
      "Input \u001b[0;32mIn [15]\u001b[0m, in \u001b[0;36m<cell line: 1>\u001b[0;34m()\u001b[0m\n\u001b[0;32m----> 1\u001b[0m \u001b[38;5;28;01mfrom\u001b[39;00m \u001b[38;5;21;01mtorchsummary\u001b[39;00m \u001b[38;5;28;01mimport\u001b[39;00m summary\n\u001b[1;32m      2\u001b[0m summary(widenet)\n",
      "\u001b[0;31mModuleNotFoundError\u001b[0m: No module named 'torchsummary'"
     ]
    }
   ],
   "source": [
    "from torchsummary import summary\n",
    "summary(widenet)"
   ]
  },
  {
   "cell_type": "code",
   "execution_count": null,
   "id": "9bb2711a-4a3b-42cd-9846-568bebb7a6fd",
   "metadata": {},
   "outputs": [],
   "source": []
  }
 ],
 "metadata": {
  "kernelspec": {
   "display_name": "Python 3 (ipykernel)",
   "language": "python",
   "name": "python3"
  },
  "language_info": {
   "codemirror_mode": {
    "name": "ipython",
    "version": 3
   },
   "file_extension": ".py",
   "mimetype": "text/x-python",
   "name": "python",
   "nbconvert_exporter": "python",
   "pygments_lexer": "ipython3",
   "version": "3.9.12"
  }
 },
 "nbformat": 4,
 "nbformat_minor": 5
}
