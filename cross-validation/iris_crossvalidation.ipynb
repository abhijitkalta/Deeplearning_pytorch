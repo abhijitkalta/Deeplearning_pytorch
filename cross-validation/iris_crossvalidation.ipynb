{
 "cells": [
  {
   "cell_type": "code",
   "execution_count": 18,
   "id": "49595c73-8c8f-497d-a82c-caa745c3a315",
   "metadata": {},
   "outputs": [
    {
     "name": "stderr",
     "output_type": "stream",
     "text": [
      "/var/folders/nn/4_714bpd2qz7gm9d27_r3qw40000gn/T/ipykernel_22036/1910417384.py:8: DeprecationWarning: `set_matplotlib_formats` is deprecated since IPython 7.23, directly use `matplotlib_inline.backend_inline.set_matplotlib_formats()`\n",
      "  display.set_matplotlib_formats('svg')\n"
     ]
    }
   ],
   "source": [
    "import numpy as np\n",
    "import matplotlib.pyplot as plt\n",
    "import torch\n",
    "import torch.nn as nn\n",
    "import torch.nn.functional as F\n",
    "\n",
    "from IPython import display\n",
    "display.set_matplotlib_formats('svg')"
   ]
  },
  {
   "cell_type": "code",
   "execution_count": 46,
   "id": "c8e2cf93-3561-4a5b-bc4f-a4772edb09a5",
   "metadata": {},
   "outputs": [],
   "source": [
    "import seaborn as sns\n",
    "iris = sns.load_dataset('iris')"
   ]
  },
  {
   "cell_type": "code",
   "execution_count": 47,
   "id": "2b907510-979e-46e9-befc-e06fb938d50f",
   "metadata": {},
   "outputs": [
    {
     "data": {
      "text/plain": [
       "torch.Size([150])"
      ]
     },
     "execution_count": 47,
     "metadata": {},
     "output_type": "execute_result"
    }
   ],
   "source": [
    "# organize the data\n",
    "\n",
    "# convert pandas dataframe into pytorch tensor\n",
    "data = torch.tensor(iris[iris.columns[0:4]].values).float()\n",
    "\n",
    "# transform species to numbers\n",
    "\n",
    "labels = torch.zeros(len(data), dtype = torch.long)\n",
    "labels[iris.species == 'versicolor'] = 1\n",
    "labels[iris.species == 'virginica'] = 2\n",
    "\n",
    "labels.shape"
   ]
  },
  {
   "cell_type": "code",
   "execution_count": 48,
   "id": "d51ff846-d963-47ab-9981-2170c61af493",
   "metadata": {},
   "outputs": [
    {
     "data": {
      "text/plain": [
       "array([ True,  True,  True, False, False,  True,  True,  True,  True,\n",
       "        True,  True,  True,  True, False,  True,  True, False,  True,\n",
       "        True,  True,  True, False, False,  True, False, False,  True,\n",
       "       False,  True, False,  True, False,  True,  True,  True,  True,\n",
       "        True,  True, False,  True,  True,  True,  True,  True,  True,\n",
       "        True,  True,  True,  True,  True,  True,  True,  True,  True,\n",
       "        True,  True,  True,  True,  True, False, False,  True,  True,\n",
       "        True,  True,  True,  True,  True,  True, False,  True,  True,\n",
       "        True,  True,  True,  True, False, False,  True,  True,  True,\n",
       "        True,  True,  True,  True, False,  True,  True,  True,  True,\n",
       "        True,  True, False,  True,  True,  True,  True,  True,  True,\n",
       "        True,  True,  True,  True,  True,  True,  True,  True,  True,\n",
       "       False,  True,  True,  True,  True,  True,  True, False,  True,\n",
       "        True,  True,  True, False,  True,  True,  True,  True,  True,\n",
       "       False, False,  True, False,  True,  True,  True, False,  True,\n",
       "       False, False, False,  True,  True,  True,  True,  True,  True,\n",
       "        True, False,  True,  True,  True,  True])"
      ]
     },
     "execution_count": 48,
     "metadata": {},
     "output_type": "execute_result"
    }
   ],
   "source": [
    "propTraining = 0.8\n",
    "nTraining = int(len(labels) * propTraining)\n",
    "traintestBool = np.zeros(len(labels), dtype = bool)\n",
    "items2use4train = np.random.choice(range(len(labels)), nTraining, replace = False)\n",
    "traintestBool[items2use4train] = True\n",
    "traintestBool"
   ]
  },
  {
   "cell_type": "code",
   "execution_count": 49,
   "id": "39dcf3cf-520d-43d3-bf66-ae531b0970aa",
   "metadata": {},
   "outputs": [
    {
     "name": "stdout",
     "output_type": "stream",
     "text": [
      "torch.Size([150, 4])\n",
      "torch.Size([120, 4])\n",
      "torch.Size([30, 4])\n"
     ]
    }
   ],
   "source": [
    "print(data.shape)\n",
    "print(data[traintestBool, :].shape)\n",
    "print(data[~traintestBool, :].shape)"
   ]
  },
  {
   "cell_type": "code",
   "execution_count": 50,
   "id": "421ce3e6-f447-4341-9a46-1ba689048c7e",
   "metadata": {},
   "outputs": [],
   "source": [
    "X_train, X_test, y_train, y_test = data[traintestBool, :], data[~traintestBool, :], labels[traintestBool ], labels[~traintestBool ]"
   ]
  },
  {
   "cell_type": "code",
   "execution_count": 51,
   "id": "aa3d53f3-c5ce-477b-bafe-b2ffcc9f5c27",
   "metadata": {},
   "outputs": [],
   "source": [
    "# create model\n",
    "\n",
    "class ANNiris(nn.Module):\n",
    "    def __init__(self, nUnits, nLayers):\n",
    "        super().__init__()\n",
    "        \n",
    "        self.layers = nn.ModuleDict()\n",
    "        self.nLayers = nLayers\n",
    "        \n",
    "        # input layer\n",
    "        self.layers['input'] = nn.Linear(4, nUnits)\n",
    "        \n",
    "        # hidden layer\n",
    "        for i in range(nLayers):\n",
    "            self.layers[f'hidden {i}'] = nn.Linear(nUnits, nUnits)\n",
    "        \n",
    "        # output layer\n",
    "        self.layers['output'] = nn.Linear(nUnits, 3)\n",
    "        \n",
    "    def forward(self, x):\n",
    "        x = self.layers['input'](x)\n",
    "        for i in range(self.nLayers):\n",
    "            x = F.relu(self.layers[f'hidden {i}'](x))\n",
    "        \n",
    "        x = self.layers['output'](x)\n",
    "        return x"
   ]
  },
  {
   "cell_type": "code",
   "execution_count": 23,
   "id": "43a5dc10-8b82-4662-8109-ff2d29d06252",
   "metadata": {},
   "outputs": [
    {
     "data": {
      "text/plain": [
       "ANNiris(\n",
       "  (layers): ModuleDict(\n",
       "    (input): Linear(in_features=4, out_features=2, bias=True)\n",
       "    (hidden 0): Linear(in_features=2, out_features=2, bias=True)\n",
       "    (hidden 1): Linear(in_features=2, out_features=2, bias=True)\n",
       "    (hidden 2): Linear(in_features=2, out_features=2, bias=True)\n",
       "    (output): Linear(in_features=2, out_features=3, bias=True)\n",
       "  )\n",
       ")"
      ]
     },
     "execution_count": 23,
     "metadata": {},
     "output_type": "execute_result"
    }
   ],
   "source": [
    "data = torch.randn(10, 4)\n",
    "net = ANNiris(2, 3)\n",
    "net"
   ]
  },
  {
   "cell_type": "code",
   "execution_count": 55,
   "id": "546fd924-9d1f-4c1b-b039-780a29fb0d86",
   "metadata": {},
   "outputs": [],
   "source": [
    "numepochs = 500\n",
    "def trainModel(model):\n",
    "    lossfun = nn.CrossEntropyLoss()\n",
    "    optimizer = torch.optim.SGD(model.parameters(), lr = 0.1)\n",
    "    \n",
    "    losses = torch.zeros(numepochs)\n",
    "    \n",
    "    for epochi in range(numepochs):\n",
    "        yHat = model(X_train)\n",
    "        \n",
    "        loss = lossfun(yHat, y_train)\n",
    "        losses[epochi] = loss\n",
    "        \n",
    "        optimizer.zero_grad()\n",
    "        loss.backward()\n",
    "        optimizer.step()\n",
    "    \n",
    "    predictions = model(X_train)\n",
    "    predlabels = torch.argmax(predictions, axis = 1)\n",
    "    acc = 100 * torch.mean((predlabels == y_train).float())\n",
    "    \n",
    "    return acc"
   ]
  },
  {
   "cell_type": "code",
   "execution_count": 62,
   "id": "4706e5c4-365a-42c6-8931-a6018cc4dc83",
   "metadata": {},
   "outputs": [
    {
     "name": "stdout",
     "output_type": "stream",
     "text": [
      "Train Accuracy is: 98.33\n"
     ]
    }
   ],
   "source": [
    "model = ANNiris(12, 3)\n",
    "acc = trainModel(model)\n",
    "print(f'Train Accuracy is: {acc:.2f}')"
   ]
  },
  {
   "cell_type": "code",
   "execution_count": 63,
   "id": "ce84b80c-211c-43a1-9871-37c6748f35cf",
   "metadata": {},
   "outputs": [
    {
     "name": "stdout",
     "output_type": "stream",
     "text": [
      "Test accuracy is: 100.00\n"
     ]
    }
   ],
   "source": [
    "predictions = model(X_test)\n",
    "predlabels = torch.argmax(predictions, axis = 1)\n",
    "acc = 100 * torch.mean((predlabels == y_test).float())\n",
    "print(f'Test accuracy is: {acc:.2f}')"
   ]
  },
  {
   "cell_type": "code",
   "execution_count": null,
   "id": "01e34d26-5eb0-417c-947c-30c7d9be4ba9",
   "metadata": {},
   "outputs": [],
   "source": []
  }
 ],
 "metadata": {
  "kernelspec": {
   "display_name": "Python 3 (ipykernel)",
   "language": "python",
   "name": "python3"
  },
  "language_info": {
   "codemirror_mode": {
    "name": "ipython",
    "version": 3
   },
   "file_extension": ".py",
   "mimetype": "text/x-python",
   "name": "python",
   "nbconvert_exporter": "python",
   "pygments_lexer": "ipython3",
   "version": "3.9.12"
  }
 },
 "nbformat": 4,
 "nbformat_minor": 5
}
