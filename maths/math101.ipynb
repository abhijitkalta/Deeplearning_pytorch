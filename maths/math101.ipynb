{
 "cells": [
  {
   "cell_type": "code",
   "execution_count": 18,
   "id": "dd0a3341-43c1-4442-982d-14e3f3c499b5",
   "metadata": {},
   "outputs": [],
   "source": [
    "import numpy as np\n",
    "import torch\n",
    "import torch.nn as nn\n",
    "import matplotlib.pyplot as plt"
   ]
  },
  {
   "cell_type": "code",
   "execution_count": 8,
   "id": "58e12da2-f2a4-4e58-8269-885d715df7b0",
   "metadata": {},
   "outputs": [
    {
     "name": "stdout",
     "output_type": "stream",
     "text": [
      "[[1 2 3 4]]\n",
      "[[1]\n",
      " [2]\n",
      " [3]\n",
      " [4]]\n"
     ]
    }
   ],
   "source": [
    "# Numpy array\n",
    "nv = np.array([[1, 2, 3, 4]])\n",
    "nv_T = nv.T\n",
    "print(nv)\n",
    "print(nv_T)"
   ]
  },
  {
   "cell_type": "code",
   "execution_count": 7,
   "id": "47a2ab39-d3e2-4123-859e-c3a71813d710",
   "metadata": {},
   "outputs": [
    {
     "name": "stdout",
     "output_type": "stream",
     "text": [
      "tensor([[1., 2., 3., 4.]])\n",
      "tensor([[1.],\n",
      "        [2.],\n",
      "        [3.],\n",
      "        [4.]])\n"
     ]
    }
   ],
   "source": [
    "# Tensor array\n",
    "tv = torch.Tensor([[1, 2, 3, 4]])\n",
    "tv_T = tv.T\n",
    "print(tv)\n",
    "print(tv.T)"
   ]
  },
  {
   "cell_type": "code",
   "execution_count": 5,
   "id": "e48e031d-3c05-40e9-a997-95052dcac229",
   "metadata": {},
   "outputs": [
    {
     "data": {
      "text/plain": [
       "numpy.ndarray"
      ]
     },
     "execution_count": 5,
     "metadata": {},
     "output_type": "execute_result"
    }
   ],
   "source": [
    "type(nv)"
   ]
  },
  {
   "cell_type": "code",
   "execution_count": 6,
   "id": "dc8e47f5-ad6f-415d-b597-b29b66307906",
   "metadata": {},
   "outputs": [
    {
     "data": {
      "text/plain": [
       "torch.Tensor"
      ]
     },
     "execution_count": 6,
     "metadata": {},
     "output_type": "execute_result"
    }
   ],
   "source": [
    "type(tv)"
   ]
  },
  {
   "cell_type": "code",
   "execution_count": 11,
   "id": "dbd104f5-0cdb-4806-abea-dd80b6e98382",
   "metadata": {},
   "outputs": [
    {
     "name": "stdout",
     "output_type": "stream",
     "text": [
      "-2\n",
      "\n",
      "-2\n"
     ]
    }
   ],
   "source": [
    "# Dot product\n",
    "nv1 = np.array([1, 2, 3, 4])\n",
    "nv2 = np.array([0, 1, 0, -1])\n",
    "print(np.dot(nv1, nv2)), print('')\n",
    "print(np.sum(nv1*nv2))"
   ]
  },
  {
   "cell_type": "code",
   "execution_count": 14,
   "id": "aebaecae-4131-491e-993a-f371c774d3c8",
   "metadata": {},
   "outputs": [
    {
     "name": "stdout",
     "output_type": "stream",
     "text": [
      "tensor(-2)\n",
      "\n",
      "tensor(-2)\n"
     ]
    }
   ],
   "source": [
    "# Create a vector\n",
    "tv1 = torch.tensor([1, 2, 3, 4])\n",
    "tv2 = torch.tensor([0, 1, 0, -1])\n",
    "print(torch.dot(tv1, tv2)), print('')\n",
    "print(torch.sum(tv1*tv2))"
   ]
  },
  {
   "cell_type": "code",
   "execution_count": 15,
   "id": "09613e50-4a86-41bb-ba66-26d694485199",
   "metadata": {},
   "outputs": [
    {
     "name": "stdout",
     "output_type": "stream",
     "text": [
      "[[ 4.9978607  -1.39333936  5.72669466  2.04812588 -5.81019766]\n",
      " [-1.86344217  0.7728948  -3.13531455 -0.40964463 -0.86388838]\n",
      " [ 2.13488009 -0.07650508  4.08480257  0.43196046 -2.8400943 ]]\n"
     ]
    }
   ],
   "source": [
    "# Create some random matrices\n",
    "A = np.random.randn(3, 4)\n",
    "B = np.random.randn(4, 5)\n",
    "C = np.random.randn(3, 7)\n",
    "\n",
    "print(A@B)"
   ]
  },
  {
   "cell_type": "code",
   "execution_count": 17,
   "id": "f97837e6-725d-476f-8344-7217cc75a28d",
   "metadata": {},
   "outputs": [
    {
     "name": "stdout",
     "output_type": "stream",
     "text": [
      "tensor([[ 1.5746e+00,  4.6466e+00, -3.7120e+00,  3.5447e-01, -1.4479e+00,\n",
      "          4.3348e+00,  6.8289e-01,  5.3444e-01, -1.1104e-01],\n",
      "        [ 6.2252e-01, -2.4720e+00, -1.6760e-01,  3.0271e+00,  6.1916e-01,\n",
      "         -5.9978e+00,  7.1523e+00, -1.7800e+00,  4.9191e+00],\n",
      "        [ 1.3606e+00,  4.4554e+00, -3.8205e+00,  1.2346e+00, -7.6308e-01,\n",
      "          2.3445e+00,  2.7796e+00, -4.2845e-02, -1.6245e+00],\n",
      "        [-1.8331e-01, -1.5740e+00,  3.7983e+00,  8.9398e-01,  6.4672e-03,\n",
      "         -5.0034e+00,  3.3517e+00,  1.3887e+00,  1.9848e+00],\n",
      "        [ 2.2955e+00,  2.1257e+00,  2.6318e+00, -4.2263e-01, -1.9334e+00,\n",
      "          4.4331e+00, -2.1360e+00,  1.8611e+00, -5.8107e-01]],\n",
      "       dtype=torch.float64)\n"
     ]
    }
   ],
   "source": [
    "# Using pytorch\n",
    "A = torch.randn(4, 5)\n",
    "B = torch.randn(5, 7)\n",
    "C1 = np.random.randn(7, 9)\n",
    "print(B@C1)"
   ]
  },
  {
   "cell_type": "code",
   "execution_count": 31,
   "id": "b9a8fdd6-3d32-4948-be83-b99ddf2dfbba",
   "metadata": {},
   "outputs": [
    {
     "name": "stdout",
     "output_type": "stream",
     "text": [
      "[1.64768519e-03 1.64768519e-03 3.01784070e-05 8.99605634e-02\n",
      " 1.37009756e-09 7.48047920e-08 1.11020155e-05 4.47887272e-03\n",
      " 8.20334154e-05 2.22989942e-04 4.08420326e-06 1.64768519e-03\n",
      " 1.01237277e-08 3.72431130e-09 8.99605634e-02 4.47887272e-03\n",
      " 1.64768519e-03 3.30946418e-02 7.48047920e-08 2.44538165e-01\n",
      " 2.22989942e-04 1.50249441e-06 4.47887272e-03 7.48047920e-08\n",
      " 1.50249441e-06 6.06149508e-04 1.64768519e-03 6.06149508e-04\n",
      " 8.99605634e-02 5.52736805e-07 1.11020155e-05 3.01784070e-05\n",
      " 8.99605634e-02 2.75191451e-08 1.01237277e-08 8.99605634e-02\n",
      " 3.72431130e-09 1.11020155e-05 1.37009756e-09 2.03340507e-07\n",
      " 3.72431130e-09 1.01237277e-08 4.47887272e-03 2.44538165e-01\n",
      " 3.01784070e-05]\n",
      "\n",
      "1.0\n"
     ]
    },
    {
     "data": {
      "image/png": "[encoded data removed]",
      "text/plain": [
       "<Figure size 432x288 with 1 Axes>"
      ]
     },
     "metadata": {
      "needs_background": "light"
     },
     "output_type": "display_data"
    }
   ],
   "source": [
    "# Softmax\n",
    "z = np.random.randint(-5, 15, 45)\n",
    "num = np.exp(z)\n",
    "den = np.sum(num)\n",
    "sigma = num/den\n",
    "print(sigma), print('')\n",
    "print(sum(sigma))\n",
    "\n",
    "plt.plot(z, sigma, 'ko')\n",
    "plt.xlabel('Original numbers')\n",
    "plt.ylabel('Softmaxified$\\sigma$')\n",
    "plt.yscale('log')\n",
    "plt.title('$\\sum\\sigma$ : {}'.format(sum(sigma)));"
   ]
  },
  {
   "cell_type": "code",
   "execution_count": 34,
   "id": "c04b3b02-42e1-44f7-bad2-ed3135350d8b",
   "metadata": {},
   "outputs": [
    {
     "name": "stdout",
     "output_type": "stream",
     "text": [
      "tensor([1.6477e-03, 1.6477e-03, 3.0178e-05, 8.9961e-02, 1.3701e-09, 7.4805e-08,\n",
      "        1.1102e-05, 4.4789e-03, 8.2033e-05, 2.2299e-04, 4.0842e-06, 1.6477e-03,\n",
      "        1.0124e-08, 3.7243e-09, 8.9961e-02, 4.4789e-03, 1.6477e-03, 3.3095e-02,\n",
      "        7.4805e-08, 2.4454e-01, 2.2299e-04, 1.5025e-06, 4.4789e-03, 7.4805e-08,\n",
      "        1.5025e-06, 6.0615e-04, 1.6477e-03, 6.0615e-04, 8.9961e-02, 5.5274e-07,\n",
      "        1.1102e-05, 3.0178e-05, 8.9961e-02, 2.7519e-08, 1.0124e-08, 8.9961e-02,\n",
      "        3.7243e-09, 1.1102e-05, 1.3701e-09, 2.0334e-07, 3.7243e-09, 1.0124e-08,\n",
      "        4.4789e-03, 2.4454e-01, 3.0178e-05])\n",
      "\n",
      "tensor(1.0000)\n"
     ]
    },
    {
     "data": {
      "image/png": "[encoded data removed]",
      "text/plain": [
       "<Figure size 432x288 with 1 Axes>"
      ]
     },
     "metadata": {
      "needs_background": "light"
     },
     "output_type": "display_data"
    }
   ],
   "source": [
    "# Create an instance of softmax activation class\n",
    "\n",
    "softfun = nn.Softmax(dim = 0)\n",
    "sigma = softfun(torch.Tensor(z))\n",
    "print(sigma), print('')\n",
    "print(sum(sigma))\n",
    "\n",
    "plt.plot(z, sigma, 'ko');"
   ]
  },
  {
   "cell_type": "code",
   "execution_count": 40,
   "id": "3ee6b2f3-c665-4092-90bd-1f352f0e9d48",
   "metadata": {},
   "outputs": [
    {
     "data": {
      "image/png": "[encoded data removed]",
      "text/plain": [
       "<Figure size 864x576 with 1 Axes>"
      ]
     },
     "metadata": {
      "needs_background": "light"
     },
     "output_type": "display_data"
    }
   ],
   "source": [
    "# Logarithmic plot\n",
    "\n",
    "x = np.linspace(0.001, 3, 100)\n",
    "logx = np.log(x)\n",
    "\n",
    "plt.figure(figsize = (12, 8))\n",
    "plt.plot(x, logx, 'ks-', markerfacecolor = 'w');"
   ]
  },
  {
   "cell_type": "code",
   "execution_count": 42,
   "id": "20b0015c-321e-4047-a4fc-d125de8e5241",
   "metadata": {},
   "outputs": [
    {
     "name": "stdout",
     "output_type": "stream",
     "text": [
      "0.5623351446188083\n"
     ]
    }
   ],
   "source": [
    "# Entropy\n",
    "\n",
    "x = [.25, .75]\n",
    "H = 0\n",
    "for p in x:\n",
    "    H -= p * np.log(p)\n",
    "print(H)"
   ]
  },
  {
   "cell_type": "code",
   "execution_count": 43,
   "id": "00df9075-53b9-4095-be45-8840342dd3f3",
   "metadata": {},
   "outputs": [
    {
     "name": "stdout",
     "output_type": "stream",
     "text": [
      "1.3862943611198906\n"
     ]
    }
   ],
   "source": [
    "# Cross entropy\n",
    "\n",
    "p = [1, 0]\n",
    "q = [ 0.25, 0.75]\n",
    "H = 0\n",
    "for i in range(len(p)):\n",
    "    H -= p[i] * np.log(q[i])\n",
    "print(H)"
   ]
  },
  {
   "cell_type": "code",
   "execution_count": 46,
   "id": "5eb178b3-b2a4-400d-bf4e-67437cc282ba",
   "metadata": {},
   "outputs": [
    {
     "data": {
      "text/plain": [
       "tensor(1.3863)"
      ]
     },
     "execution_count": 46,
     "metadata": {},
     "output_type": "execute_result"
    }
   ],
   "source": [
    "# Using pytorch\n",
    "\n",
    "import torch.nn.functional as F\n",
    "\n",
    "q_tensor = torch.Tensor(q)\n",
    "p_tensor = torch.Tensor(p)\n",
    "F.binary_cross_entropy(q_tensor, p_tensor)"
   ]
  },
  {
   "cell_type": "code",
   "execution_count": null,
   "id": "0cd1fe5b-ed06-43a8-83ea-c88e296cadf2",
   "metadata": {},
   "outputs": [],
   "source": []
  }
 ],
 "metadata": {
  "kernelspec": {
   "display_name": "Python 3 (ipykernel)",
   "language": "python",
   "name": "python3"
  },
  "language_info": {
   "codemirror_mode": {
    "name": "ipython",
    "version": 3
   },
   "file_extension": ".py",
   "mimetype": "text/x-python",
   "name": "python",
   "nbconvert_exporter": "python",
   "pygments_lexer": "ipython3",
   "version": "3.9.12"
  }
 },
 "nbformat": 4,
 "nbformat_minor": 5
}
