{
 "cells": [
  {
   "cell_type": "code",
   "execution_count": 5,
   "id": "e699967a-41e9-4a3f-9375-bca432cd0476",
   "metadata": {},
   "outputs": [],
   "source": [
    "import numpy as np\n",
    "import torch\n",
    "import torch.nn as nn\n",
    "import torchvision\n",
    "from torch.utils.data import DataLoader\n",
    "\n",
    "import matplotlib.pyplot as plt\n",
    "from IPython import display\n",
    "display.set_matplotlib_formats('svg')\n",
    "\n",
    "import warnings"
   ]
  },
  {
   "cell_type": "code",
   "execution_count": 4,
   "id": "dce9909f-a889-46ae-b18b-6bdb4622a3e5",
   "metadata": {},
   "outputs": [],
   "source": [
    "warnings.filterwarnings('ignore')"
   ]
  },
  {
   "cell_type": "code",
   "execution_count": 58,
   "id": "079392e5-f481-4eb3-9afe-f0aa4cf5dba5",
   "metadata": {},
   "outputs": [],
   "source": [
    "rnn_layer = nn.RNN(input_size= 5, hidden_size=2, num_layers=1, batch_first= True)"
   ]
  },
  {
   "cell_type": "code",
   "execution_count": null,
   "id": "f67323ec-fbac-4240-98bd-6886a359df5d",
   "metadata": {},
   "outputs": [],
   "source": [
    "torch.reshape"
   ]
  },
  {
   "cell_type": "code",
   "execution_count": 59,
   "id": "53c89a32-5e75-4043-b6cd-d68bbd5deb44",
   "metadata": {},
   "outputs": [
    {
     "name": "stdout",
     "output_type": "stream",
     "text": [
      "tensor([[1., 1., 1., 1., 1.],\n",
      "        [2., 2., 2., 2., 2.],\n",
      "        [3., 3., 3., 3., 3.]])\n"
     ]
    }
   ],
   "source": [
    "x_seq = torch.tensor([[1.0]*5, [2.0]*5, [3.0]*5]).float()\n",
    "print(x_seq)"
   ]
  },
  {
   "cell_type": "code",
   "execution_count": 18,
   "id": "46ee2939-78ee-44a6-ba80-86c5cdd1f78c",
   "metadata": {},
   "outputs": [
    {
     "data": {
      "text/plain": [
       "torch.Size([3, 5])"
      ]
     },
     "execution_count": 18,
     "metadata": {},
     "output_type": "execute_result"
    }
   ],
   "source": [
    "x_seq.shape"
   ]
  },
  {
   "cell_type": "code",
   "execution_count": 45,
   "id": "bb8b8d95-9da8-4055-9212-bde5733fb361",
   "metadata": {},
   "outputs": [
    {
     "name": "stdout",
     "output_type": "stream",
     "text": [
      "tensor([[[1., 1., 1., 1., 1.],\n",
      "         [2., 2., 2., 2., 2.],\n",
      "         [3., 3., 3., 3., 3.]]])\n"
     ]
    },
    {
     "data": {
      "text/plain": [
       "torch.Size([1, 3, 5])"
      ]
     },
     "execution_count": 45,
     "metadata": {},
     "output_type": "execute_result"
    }
   ],
   "source": [
    "x_1 = torch.reshape(x_seq, (1, 3, 5))\n",
    "print(x_1)\n",
    "x_1.shape"
   ]
  },
  {
   "cell_type": "code",
   "execution_count": 22,
   "id": "5980feec-d344-4a9e-a827-c25b591c64fb",
   "metadata": {},
   "outputs": [
    {
     "name": "stdout",
     "output_type": "stream",
     "text": [
      "RNN(5, 2, batch_first=True)\n"
     ]
    }
   ],
   "source": [
    "print(rnn_layer)"
   ]
  },
  {
   "cell_type": "code",
   "execution_count": 60,
   "id": "9fc769f4-adfa-48a3-835b-3856f102d8b5",
   "metadata": {},
   "outputs": [],
   "source": [
    "w_xh = rnn_layer.weight_ih_l0\n",
    "w_hh = rnn_layer.weight_hh_l0\n",
    "b_xh = rnn_layer.bias_ih_l0\n",
    "b_hh = rnn_layer.bias_hh_l0"
   ]
  },
  {
   "cell_type": "code",
   "execution_count": 61,
   "id": "aea21437-013c-4738-ac8d-3f506b790686",
   "metadata": {},
   "outputs": [
    {
     "name": "stdout",
     "output_type": "stream",
     "text": [
      "W_xh shape: torch.Size([2, 5])\n",
      "W_hh shape: torch.Size([2, 2])\n",
      "b_xh shape: torch.Size([2])\n",
      "b_hh shape: torch.Size([2])\n"
     ]
    }
   ],
   "source": [
    "print('W_xh shape:', w_xh.shape)\n",
    "print('W_hh shape:', w_hh.shape)\n",
    "print('b_xh shape:', b_xh.shape)\n",
    "print('b_hh shape:', b_hh.shape)"
   ]
  },
  {
   "cell_type": "code",
   "execution_count": 50,
   "id": "869d87a3-80e2-4823-87d8-765128aa2fc1",
   "metadata": {},
   "outputs": [
    {
     "data": {
      "text/plain": [
       "torch.Size([1, 3, 5])"
      ]
     },
     "execution_count": 50,
     "metadata": {},
     "output_type": "execute_result"
    }
   ],
   "source": [
    "torch.zeros(1, 3, 5).shape"
   ]
  },
  {
   "cell_type": "code",
   "execution_count": 62,
   "id": "527f9603-2bb0-42d7-b380-e95c6a22a7e7",
   "metadata": {},
   "outputs": [],
   "source": [
    "output, hn = rnn_layer(torch.reshape(x_seq, (1, 3, 5)))"
   ]
  },
  {
   "cell_type": "code",
   "execution_count": 64,
   "id": "095b9ea1-b58f-4ec3-9754-8944929291d5",
   "metadata": {},
   "outputs": [
    {
     "name": "stdout",
     "output_type": "stream",
     "text": [
      "Time step 0 =>\n",
      " Input : [[1. 1. 1. 1. 1.]]\n",
      "torch.Size([1, 5])\n",
      " Hidden : [[ 0.9719533 -1.0647134]]\n",
      " Output (manual) : [[ 0.8280528  -0.85066026]]\n",
      " RNN output : [[ 0.92742825 -0.5116577 ]]\n",
      "\n",
      "Time step 1 =>\n",
      " Input : [[2. 2. 2. 2. 2.]]\n",
      "torch.Size([1, 5])\n",
      " Hidden : [[ 1.7339501 -1.935603 ]]\n",
      " Output (manual) : [[ 0.96282965 -0.9699616 ]]\n",
      " RNN output : [[ 0.98800147 -0.8517862 ]]\n",
      "\n",
      "Time step 2 =>\n",
      " Input : [[3. 3. 3. 3. 3.]]\n",
      "torch.Size([1, 5])\n",
      " Hidden : [[ 2.4959471 -2.8064928]]\n",
      " Output (manual) : [[ 0.991964   -0.99454373]]\n",
      " RNN output : [[ 0.9970043 -0.9763694]]\n",
      "\n"
     ]
    }
   ],
   "source": [
    "out_man = []\n",
    "for t in range(3):\n",
    "    xt = torch.reshape(x_seq[t], (1, 5))\n",
    "    print(f'Time step {t} =>')\n",
    "    print(' Input :', xt.numpy())\n",
    "    print(xt.shape)\n",
    "    ht = torch.matmul(xt, torch.transpose(w_xh, 0, 1)) + b_hh\n",
    "    print(' Hidden :', ht.detach().numpy())\n",
    "    if t > 0:\n",
    "        prev_h = out_man[t-1]\n",
    "    else:\n",
    "        prev_h = torch.zeros((ht.shape))\n",
    "    ot = ht + torch.matmul(prev_h, torch.transpose(w_hh, 0, 1)) \\\n",
    "    + b_hh\n",
    "    ot = torch.tanh(ot)\n",
    "    out_man.append(ot)\n",
    "    print(' Output (manual) :', ot.detach().numpy())\n",
    "    print(' RNN output :', output[:, t].detach().numpy())\n",
    "    print()"
   ]
  },
  {
   "cell_type": "code",
   "execution_count": 65,
   "id": "d3e71c0b-48f8-4456-8196-a843e50876dd",
   "metadata": {},
   "outputs": [
    {
     "name": "stdout",
     "output_type": "stream",
     "text": [
      "----------------------------------------------------------------\n",
      "        Layer (type)               Output Shape         Param #\n",
      "================================================================\n"
     ]
    },
    {
     "ename": "AttributeError",
     "evalue": "'int' object has no attribute 'numpy'",
     "output_type": "error",
     "traceback": [
      "\u001b[0;31m---------------------------------------------------------------------------\u001b[0m",
      "\u001b[0;31mAttributeError\u001b[0m                            Traceback (most recent call last)",
      "Cell \u001b[0;32mIn[65], line 1\u001b[0m\n\u001b[0;32m----> 1\u001b[0m \u001b[43msummary\u001b[49m\u001b[43m(\u001b[49m\u001b[43mrnn_layer\u001b[49m\u001b[43m,\u001b[49m\u001b[43m \u001b[49m\u001b[43m(\u001b[49m\u001b[38;5;241;43m1\u001b[39;49m\u001b[43m,\u001b[49m\u001b[43m \u001b[49m\u001b[38;5;241;43m5\u001b[39;49m\u001b[43m)\u001b[49m\u001b[43m)\u001b[49m\n",
      "File \u001b[0;32m/opt/anaconda3/lib/python3.9/site-packages/torchsummary/torchsummary.py:102\u001b[0m, in \u001b[0;36msummary\u001b[0;34m(model, input_size, batch_size, device)\u001b[0m\n\u001b[1;32m    100\u001b[0m total_input_size \u001b[38;5;241m=\u001b[39m \u001b[38;5;28mabs\u001b[39m(np\u001b[38;5;241m.\u001b[39mprod(input_size) \u001b[38;5;241m*\u001b[39m batch_size \u001b[38;5;241m*\u001b[39m \u001b[38;5;241m4.\u001b[39m \u001b[38;5;241m/\u001b[39m (\u001b[38;5;241m1024\u001b[39m \u001b[38;5;241m*\u001b[39m\u001b[38;5;241m*\u001b[39m \u001b[38;5;241m2.\u001b[39m))\n\u001b[1;32m    101\u001b[0m total_output_size \u001b[38;5;241m=\u001b[39m \u001b[38;5;28mabs\u001b[39m(\u001b[38;5;241m2.\u001b[39m \u001b[38;5;241m*\u001b[39m total_output \u001b[38;5;241m*\u001b[39m \u001b[38;5;241m4.\u001b[39m \u001b[38;5;241m/\u001b[39m (\u001b[38;5;241m1024\u001b[39m \u001b[38;5;241m*\u001b[39m\u001b[38;5;241m*\u001b[39m \u001b[38;5;241m2.\u001b[39m))  \u001b[38;5;66;03m# x2 for gradients\u001b[39;00m\n\u001b[0;32m--> 102\u001b[0m total_params_size \u001b[38;5;241m=\u001b[39m \u001b[38;5;28mabs\u001b[39m(\u001b[43mtotal_params\u001b[49m\u001b[38;5;241;43m.\u001b[39;49m\u001b[43mnumpy\u001b[49m() \u001b[38;5;241m*\u001b[39m \u001b[38;5;241m4.\u001b[39m \u001b[38;5;241m/\u001b[39m (\u001b[38;5;241m1024\u001b[39m \u001b[38;5;241m*\u001b[39m\u001b[38;5;241m*\u001b[39m \u001b[38;5;241m2.\u001b[39m))\n\u001b[1;32m    103\u001b[0m total_size \u001b[38;5;241m=\u001b[39m total_params_size \u001b[38;5;241m+\u001b[39m total_output_size \u001b[38;5;241m+\u001b[39m total_input_size\n\u001b[1;32m    105\u001b[0m \u001b[38;5;28mprint\u001b[39m(\u001b[38;5;124m\"\u001b[39m\u001b[38;5;124m================================================================\u001b[39m\u001b[38;5;124m\"\u001b[39m)\n",
      "\u001b[0;31mAttributeError\u001b[0m: 'int' object has no attribute 'numpy'"
     ]
    }
   ],
   "source": [
    "summary(rnn_layer, (1, 5))"
   ]
  },
  {
   "cell_type": "code",
   "execution_count": 66,
   "id": "1902dbf3-6580-4025-8c1a-52b372f87ac2",
   "metadata": {},
   "outputs": [
    {
     "name": "stdout",
     "output_type": "stream",
     "text": [
      "Collecting torchinfo\n",
      "  Downloading torchinfo-1.7.2-py3-none-any.whl (22 kB)\n",
      "Installing collected packages: torchinfo\n",
      "Successfully installed torchinfo-1.7.2\n"
     ]
    }
   ],
   "source": [
    "!pip install torchinfo"
   ]
  },
  {
   "cell_type": "code",
   "execution_count": 67,
   "id": "2d73a8fe-091f-4e2c-9d15-f794689c744b",
   "metadata": {},
   "outputs": [],
   "source": [
    "from torchinfo import summary"
   ]
  },
  {
   "cell_type": "code",
   "execution_count": 68,
   "id": "5237fcff-1f11-472f-b2bb-a215b2ee956a",
   "metadata": {},
   "outputs": [
    {
     "data": {
      "text/plain": [
       "==========================================================================================\n",
       "Layer (type:depth-idx)                   Output Shape              Param #\n",
       "==========================================================================================\n",
       "RNN                                      [1, 3, 2]                 18\n",
       "==========================================================================================\n",
       "Total params: 18\n",
       "Trainable params: 18\n",
       "Non-trainable params: 0\n",
       "Total mult-adds (M): 0.00\n",
       "==========================================================================================\n",
       "Input size (MB): 0.00\n",
       "Forward/backward pass size (MB): 0.00\n",
       "Params size (MB): 0.00\n",
       "Estimated Total Size (MB): 0.00\n",
       "=========================================================================================="
      ]
     },
     "execution_count": 68,
     "metadata": {},
     "output_type": "execute_result"
    }
   ],
   "source": [
    "summary(rnn_layer, (1, 3, 5))"
   ]
  },
  {
   "cell_type": "code",
   "execution_count": null,
   "id": "5309a20e-411f-4d47-a229-2e113a52b250",
   "metadata": {},
   "outputs": [],
   "source": []
  }
 ],
 "metadata": {
  "kernelspec": {
   "display_name": "Python 3 (ipykernel)",
   "language": "python",
   "name": "python3"
  },
  "language_info": {
   "codemirror_mode": {
    "name": "ipython",
    "version": 3
   },
   "file_extension": ".py",
   "mimetype": "text/x-python",
   "name": "python",
   "nbconvert_exporter": "python",
   "pygments_lexer": "ipython3",
   "version": "3.9.16"
  }
 },
 "nbformat": 4,
 "nbformat_minor": 5
}
